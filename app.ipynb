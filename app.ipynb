{
 "cells": [
  {
   "cell_type": "code",
   "execution_count": null,
   "metadata": {},
   "outputs": [],
   "source": [
    "import pickle\n",
    "import numpy as np\n",
    "import pandas as pd\n",
    "from sklearn.preprocessing import StandardScaler\n",
    "from sklearn.impute import SimpleImputer\n",
    "from sklearn.compose import ColumnTransformer\n",
    "from sklearn.pipeline import Pipeline\n",
    "import os\n",
    "import seaborn as sns\n",
    "import matplotlib.pyplot as plt\n",
    "import json\n",
    "\n",
    "from sklearn.cluster import KMeans"
   ]
  },
  {
   "cell_type": "code",
   "execution_count": null,
   "metadata": {},
   "outputs": [],
   "source": [
    "# Load data\n",
    "retail = pd.read_csv('OnlineRetail.csv', sep=\",\", encoding=\"ISO-8859-1\", header=0)\n"
   ]
  },
  {
   "cell_type": "code",
   "execution_count": null,
   "metadata": {},
   "outputs": [],
   "source": [
    "# Convert CustomerID to string and create Amount column\n",
    "retail['CustomerID'] = retail['CustomerID'].astype(str)\n",
    "retail['Amount'] = retail['Quantity'] * retail['UnitPrice']\n",
    "\n",
    "# Compute RFM metrics\n",
    "rfm_m = retail.groupby('CustomerID')['Amount'].sum().reset_index()\n",
    "rfm_f = retail.groupby('CustomerID')['InvoiceNo'].count().reset_index()\n",
    "rfm_f.columns = ['CustomerID', 'Frequency']\n",
    "retail['InvoiceDate'] = pd.to_datetime(retail['InvoiceDate'], format='%d-%m-%Y %H:%M')\n",
    "max_date = max(retail['InvoiceDate'])\n",
    "retail['Diff'] = max_date - retail['InvoiceDate']\n",
    "rfm_p = retail.groupby('CustomerID')['Diff'].min().reset_index()\n",
    "rfm_p['Diff'] = rfm_p['Diff'].dt.days\n",
    "rfm = pd.merge(rfm_m, rfm_f, on='CustomerID', how='inner')\n",
    "rfm = pd.merge(rfm, rfm_p, on='CustomerID', how='inner')\n",
    "rfm.columns = ['CustomerID', 'Amount', 'Frequency', 'Recency']\n"
   ]
  },
  {
   "cell_type": "code",
   "execution_count": null,
   "metadata": {},
   "outputs": [],
   "source": [
    "# Remove outliers\n",
    "Q1 = rfm.quantile(0.05)\n",
    "Q3 = rfm.quantile(0.95)\n",
    "IQR = Q3 - Q1\n",
    "rfm = rfm[(rfm.Amount >= Q1[0] - 1.5 * IQR[0]) & (rfm.Amount <= Q3[0] + 1.5 * IQR[0])]\n",
    "rfm = rfm[(rfm.Recency >= Q1[2] - 1.5 * IQR[2]) & (rfm.Recency <= Q3[2] + 1.5 * IQR[2])]\n",
    "rfm = rfm[(rfm.Frequency >= Q1[1] - 1.5 * IQR[1]) & (rfm.Frequency <= Q3[1] + 1.5 * IQR[1])]\n",
    "\n",
    "rfm_df = rfm[['Amount', 'Frequency', 'Recency']]"
   ]
  },
  {
   "cell_type": "code",
   "execution_count": null,
   "metadata": {},
   "outputs": [],
   "source": [
    "# Instantiate and fit StandardScaler\n",
    "scaler = StandardScaler()\n",
    "rfm_df_scaled = scaler.fit_transform(rfm_df)\n",
    "rfm_df_scaled = pd.DataFrame(rfm_df_scaled)\n",
    "rfm_df_scaled.columns = ['Amount', 'Frequency', 'Recency']"
   ]
  },
  {
   "cell_type": "code",
   "execution_count": null,
   "metadata": {},
   "outputs": [],
   "source": [
    "# Perform KMeans clustering\n",
    "kmeans = KMeans(n_clusters=3, random_state=42)\n",
    "kmeans.fit(rfm_df_scaled)"
   ]
  },
  {
   "cell_type": "code",
   "execution_count": null,
   "metadata": {},
   "outputs": [],
   "source": [
    "# Save the KMeans model\n",
    "pickle.dump(kmeans, open('kmeans_model.pkl', 'wb'))"
   ]
  },
  {
   "cell_type": "code",
   "execution_count": null,
   "metadata": {},
   "outputs": [],
   "source": [
    "# Create a new Jupyter Notebook file\n",
    "import nbformat as nbf\n",
    "\n",
    "nb = nbf.v4.new_notebook()\n",
    "code_cells = [\n",
    "    nbf.v4.new_code_cell(\"# Example usage:\\n\\nimport pickle\\nimport pandas as pd\\n\\nkmeans_model = pickle.load(open('kmeans_model.pkl', 'rb'))\\n\\n# Load your new data\\nnew_data = pd.read_csv('new_data.csv')\\n\\n# Preprocess your new data\\ndata_preprocessed = preprocess_data(new_data)\\n\\n# Predict clusters for new data\\nclusters = kmeans_model.predict(data_preprocessed)\\n\\n# Do something with the predicted clusters...\\n\"),\n",
    "]\n",
    "nb['cells'] = code_cells\n",
    "\n",
    "nbf.write(nb, 'model.ipynb')"
   ]
  },
  {
   "cell_type": "code",
   "execution_count": null,
   "metadata": {},
   "outputs": [],
   "source": [
    "import json\n",
    "\n",
    "# Example JSON data\n",
    "data = {'amount_img': 'Amount',\n",
    "        'freq_img': 'Frequency',\n",
    "        'recency_img': 'Recency'}\n",
    "\n",
    "# Convert the dictionary to JSON\n",
    "json_data = json.dumps(data)\n",
    "\n",
    "# Print the JSON data\n",
    "print(json_data)"
   ]
  },
  {
   "cell_type": "code",
   "execution_count": null,
   "metadata": {},
   "outputs": [],
   "source": [
    "\n",
    "import pandas as pd\n",
    "\n",
    "# Read the CSV file\n",
    "dataset = pd.read_csv('OnlineRetail.csv',sep=\",\", encoding=\"ISO-8859-1\", header=0)\n",
    "\n",
    "# Convert to JSON\n",
    "json_data = dataset.to_json(orient='records')"
   ]
  },
  {
   "cell_type": "code",
   "execution_count": null,
   "metadata": {},
   "outputs": [],
   "source": [
    "\n"
   ]
  },
  {
   "cell_type": "code",
   "execution_count": null,
   "metadata": {},
   "outputs": [],
   "source": []
  }
 ],
 "metadata": {
  "kernelspec": {
   "display_name": "base",
   "language": "python",
   "name": "python3"
  },
  "language_info": {
   "codemirror_mode": {
    "name": "ipython",
    "version": 3
   },
   "file_extension": ".py",
   "mimetype": "text/x-python",
   "name": "python",
   "nbconvert_exporter": "python",
   "pygments_lexer": "ipython3",
   "version": "3.10.9"
  },
  "orig_nbformat": 4
 },
 "nbformat": 4,
 "nbformat_minor": 2
}
