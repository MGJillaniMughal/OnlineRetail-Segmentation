{
 "cells": [
  {
   "cell_type": "code",
   "execution_count": null,
   "id": "a4d7cf24",
   "metadata": {},
   "outputs": [],
   "source": [
    "# Example usage:\n",
    "\n",
    "import pickle\n",
    "import pandas as pd\n",
    "\n",
    "kmeans_model = pickle.load(open('kmeans_model.pkl', 'rb'))\n",
    "\n",
    "# Load your new data\n",
    "new_data = pd.read_csv('new_data.csv')\n",
    "\n",
    "# Preprocess your new data\n",
    "data_preprocessed = preprocess_data(new_data)\n",
    "\n",
    "# Predict clusters for new data\n",
    "clusters = kmeans_model.predict(data_preprocessed)\n",
    "\n",
    "# Do something with the predicted clusters...\n"
   ]
  }
 ],
 "metadata": {},
 "nbformat": 4,
 "nbformat_minor": 5
}
